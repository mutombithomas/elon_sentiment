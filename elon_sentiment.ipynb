{
 "cells": [
  {
   "cell_type": "markdown",
   "metadata": {},
   "source": [
    "# **Sentiment Analysis of Elon Musk and impact on stocks**\n"
   ]
  },
  {
   "cell_type": "code",
   "execution_count": 219,
   "metadata": {},
   "outputs": [],
   "source": [
    "import itertools\n",
    "import snscrape.modules.twitter as sntwitter\n",
    "import pandas as pd\n",
    "import numpy as np\n",
    "import sys\n",
    "\n",
    "import pandas_datareader.data as web\n",
    "import os\n",
    "import datetime\n",
    "from alpha_vantage.timeseries import TimeSeries\n",
    "\n",
    "# preprocess\n",
    "import nltk\n",
    "from nltk.corpus import stopwords\n",
    "from textblob import Word, TextBlob\n",
    "\n",
    "import plotly.graph_objects as go \n",
    "import plotly.express as px\n",
    "from plotly.subplots import make_subplots\n"
   ]
  },
  {
   "cell_type": "code",
   "execution_count": 220,
   "metadata": {},
   "outputs": [
    {
     "name": "stderr",
     "output_type": "stream",
     "text": [
      "[nltk_data] Downloading package stopwords to\n",
      "[nltk_data]     C:\\Users\\mtdra\\AppData\\Roaming\\nltk_data...\n",
      "[nltk_data]   Package stopwords is already up-to-date!\n",
      "[nltk_data] Downloading package wordnet to\n",
      "[nltk_data]     C:\\Users\\mtdra\\AppData\\Roaming\\nltk_data...\n",
      "[nltk_data]   Package wordnet is already up-to-date!\n",
      "[nltk_data] Downloading package omw-1.4 to\n",
      "[nltk_data]     C:\\Users\\mtdra\\AppData\\Roaming\\nltk_data...\n",
      "[nltk_data]   Package omw-1.4 is already up-to-date!\n"
     ]
    },
    {
     "data": {
      "text/plain": [
       "True"
      ]
     },
     "execution_count": 220,
     "metadata": {},
     "output_type": "execute_result"
    }
   ],
   "source": [
    "#download nltk packages\n",
    "nltk.download('stopwords')\n",
    "nltk.download('wordnet')\n",
    "nltk.download('omw-1.4')"
   ]
  },
  {
   "cell_type": "markdown",
   "metadata": {},
   "source": [
    "## **Extract Tweets**"
   ]
  },
  {
   "cell_type": "code",
   "execution_count": 221,
   "metadata": {},
   "outputs": [],
   "source": [
    "from pandas import DataFrame\n",
    "\n",
    "def search_tweets(query: str,\n",
    "                     since: str = None,\n",
    "                     until: str = None,\n",
    "                     exclude_retweets: bool = False,\n",
    "                     exclude_replies: bool = False,\n",
    "                     username:str = None,\n",
    "                     near:str = None,\n",
    "                     radius:str = None,\n",
    "                     lang:str = None,\n",
    "                     max_tweets:int =-1,\n",
    "                     quiet=False) -> DataFrame: \n",
    "    \"\"\"\n",
    "    Search tweets according to keyword arguments specified using snscrape.\n",
    "\n",
    "    Parameters\n",
    "    ----------\n",
    "    query (str): A query text to be matched.\n",
    "    since (str. \"yyyy-mm-dd\"): A lower bound date (UTC) to restrict search. Default is 7 days before today.\n",
    "    until (str. \"yyyy-mm-dd\"): An upper bound date (not included) to restrict search. Default is today.\n",
    "    exclude_retweets (Bool): Exclude retweets from the dataframe\n",
    "    exclude_replies (Bool): Exclude replies from retweets\n",
    "    username (str or iterable): An optional specific username(s) from a twitter account (with or without \"@\"). Default is no username restriction.\n",
    "    near (str): A reference location area (e.g. Milan) from where tweets were generated. Default is no reference area.\n",
    "    radius (str): A distance radius (e.g. 15km) from location specified by \"near\". Meaningful only if \"near\" is set.\n",
    "    lang (str): Restrict language of the tweets retrieved. Must be an ISO 639-1 code (e.g. en, it, etc.). Default is no language restriction.\n",
    "    max_tweets (int): The maximum number of tweets to be retrieved. If this number is unsetted or lower than 1 all possible tweets will be retrieved. Default is -1.\n",
    "\n",
    "    Returns\n",
    "    -------\n",
    "    tweets (NLPTweetList): list of tweets resulting from the search and amenable to analysis.\n",
    "    \"\"\"\n",
    "    if until is None:\n",
    "        until = datetime.datetime.strftime(datetime.date.today(), '%Y-%m-%d')\n",
    "    if since is None:\n",
    "        since = datetime.datetime.strftime(\n",
    "            datetime.datetime.strptime(until, '%Y-%m-%d') - datetime.timedelta(days=7), '%Y-%m-%d')\n",
    "    if max_tweets == -1:\n",
    "        max_tweets = sys.maxsize\n",
    "\n",
    "    criteria = f'\"{query} since:{since} until:{until}\"' \n",
    "\n",
    "    if exclude_retweets:\n",
    "        criteria += f\" exclude:retweets\"\n",
    "    if exclude_replies:\n",
    "        criteria += f\" exclude:replies\"\n",
    "    if username is not None:\n",
    "        criteria += f\" from:{username}\"\n",
    "    if near is not None:\n",
    "        criteria += f\" near:{near.replace(' ', '&')}\"\n",
    "    if radius is not None:\n",
    "        criteria += f\" within:{radius}\"\n",
    "    if lang is not None:\n",
    "        criteria += f\" lang:{lang}\"\n",
    "\n",
    "    df = pd.DataFrame(itertools.islice(sntwitter.TwitterSearchScraper(criteria).get_items(), max_tweets))\n",
    "    return df"
   ]
  },
  {
   "cell_type": "code",
   "execution_count": 222,
   "metadata": {},
   "outputs": [],
   "source": [
    "\n",
    "def daily_tweets( n_daily_tweets:int = 100 , t_days:int = 30 , query:str = '' , username:str = '@elonmusk') -> DataFrame:\n",
    "    '''\n",
    "    Returns a dataframe of at most n daily tweets for a given query for a specified period of time starting today.\n",
    "\n",
    "    Parameters\n",
    "    ------------\n",
    "    t_days (int): The number of days prior to today for which you want to extract tweets.\n",
    "    n_daily_tweets (int): The number of tweets to extract each day.\n",
    "    query (str): The hastag or tweet you want to tweet about.\n",
    "    '''\n",
    "\n",
    "    for day_n in range(t_days):\n",
    "        #moving time period\n",
    "        start_day = datetime.datetime.today() - datetime.timedelta(days=day_n+1)\n",
    "        start_day = start_day.strftime(\"%Y-%m-%d\")\n",
    "        end_day = datetime.datetime.today() - datetime.timedelta(days=day_n)\n",
    "        end_day = end_day.strftime(\"%Y-%m-%d\")\n",
    "        \n",
    "        #get data\n",
    "        df_day = search_tweets(\n",
    "                                query = '\"{}\"'.format(query), \n",
    "                                since=start_day, \n",
    "                                until=end_day, \n",
    "                                exclude_retweets=True, \n",
    "                                exclude_replies=False, \n",
    "                                max_tweets=n_daily_tweets ,\n",
    "                                lang='en' ,\n",
    "                                username=username\n",
    "                            )\n",
    "\n",
    "        #make date a column not index\n",
    "        df_day.reset_index(inplace=True)\n",
    "\n",
    "        # append to single df\n",
    "        if day_n == 0:\n",
    "            df = df_day.copy()\n",
    "        else:\n",
    "            df = pd.concat([df , df_day] , ignore_index=True)\n",
    "\n",
    "    return df\n"
   ]
  },
  {
   "cell_type": "code",
   "execution_count": 223,
   "metadata": {},
   "outputs": [],
   "source": [
    "df = daily_tweets(n_daily_tweets=20000 , t_days=30 , query='#elonmusk' , username=None)"
   ]
  },
  {
   "cell_type": "markdown",
   "metadata": {},
   "source": [
    "#### **Preprocess tweets**"
   ]
  },
  {
   "cell_type": "code",
   "execution_count": 224,
   "metadata": {},
   "outputs": [],
   "source": [
    "stop_words = stopwords.words('english')\n",
    "custom_stopwords = ['elon','musk','tesla']"
   ]
  },
  {
   "cell_type": "code",
   "execution_count": 225,
   "metadata": {},
   "outputs": [],
   "source": [
    "def clean_tweet(tweet , custom_stopwords):\n",
    "    preprocessed_tweet = tweet\n",
    "    preprocessed_tweet.replace('[^\\w\\s]' , '') #remove punctuation\n",
    "    preprocessed_tweet = ' '.join(word for word in preprocessed_tweet.split() if word not in stop_words) #remove stopwords\n",
    "    preprocessed_tweet = ' '.join(word for word in preprocessed_tweet.split() if word not in custom_stopwords) #remove custom stopwords\n",
    "    preprocessed_tweet = ' '.join(word for word in preprocessed_tweet.split() if (word[0] != '@') ) # exclude handles \n",
    "    preprocessed_tweet = ' '.join(Word(word).lemmatize() for word in preprocessed_tweet.split())\n",
    "    return preprocessed_tweet\n"
   ]
  },
  {
   "cell_type": "code",
   "execution_count": 226,
   "metadata": {},
   "outputs": [],
   "source": [
    "df = df.loc[:,['date', 'renderedContent' , 'replyCount','retweetCount','likeCount','quoteCount']]\n",
    "df['clean_tweet'] = df['renderedContent'].apply(lambda x: clean_tweet(x , custom_stopwords))"
   ]
  },
  {
   "cell_type": "markdown",
   "metadata": {},
   "source": [
    "**Calculate Sentiment**"
   ]
  },
  {
   "cell_type": "code",
   "execution_count": 227,
   "metadata": {},
   "outputs": [],
   "source": [
    "# using text blob to calculate polarity - 0 to 1 based on how positive or negative the tweets are\n",
    "df['polarity'] = df['clean_tweet'].apply(lambda x: TextBlob(x).sentiment[0])\n",
    "# subjectivity tells us how emotional the text is: how objective or subjective\n",
    "df['subjectivity'] = df['clean_tweet'].apply(lambda x: TextBlob(x).sentiment[1])"
   ]
  },
  {
   "cell_type": "markdown",
   "metadata": {},
   "source": [
    "**Group by day**"
   ]
  },
  {
   "cell_type": "code",
   "execution_count": 228,
   "metadata": {},
   "outputs": [],
   "source": [
    "df.rename(mapper={'date':'datetime'} , axis=1 , inplace=1)"
   ]
  },
  {
   "cell_type": "code",
   "execution_count": 229,
   "metadata": {},
   "outputs": [],
   "source": [
    "df['date'] = df['datetime'].dt.date"
   ]
  },
  {
   "cell_type": "code",
   "execution_count": 230,
   "metadata": {},
   "outputs": [],
   "source": [
    "df_time = df[['date' , 'polarity' , 'subjectivity']].groupby('date').mean()"
   ]
  },
  {
   "cell_type": "markdown",
   "metadata": {},
   "source": [
    "**Including Error Bars**\n",
    "\n",
    "The distribution could be skewed so it is better to use asymmetrical errorbars and get a 95% interval from the percentiles. Perhaps preferable to assuming a normal distribution for the data where the interval [μ - 2σ, μ + 2σ] will cover 95.5 %, so we can use 2 * std to estimate the 95 % interval."
   ]
  },
  {
   "cell_type": "code",
   "execution_count": 231,
   "metadata": {},
   "outputs": [],
   "source": [
    "def error95interval(df:DataFrame , grouped_by:str , y:str , upper_lower:str = 'lower') -> np.array:\n",
    "    '''\n",
    "    Return the lower bound or upper bound from a distribution formed by the pandas group by method. \n",
    "    We assume a non-normal distribution so we will get asymmetrical errorbars and get the 95% interval from the percentiles.\n",
    "    '''\n",
    "    if upper_lower == 'upper':\n",
    "        error = df[[ grouped_by , y ]].groupby(grouped_by).quantile(0.975)\n",
    "    else:\n",
    "        error = df[[ grouped_by , y ]].groupby(grouped_by).quantile(0.025)\n",
    "        \n",
    "    return error"
   ]
  },
  {
   "cell_type": "code",
   "execution_count": 232,
   "metadata": {},
   "outputs": [],
   "source": [
    "df_time.loc[:,'polarity_lower'] = error95interval(df=df , grouped_by='date' , y='polarity' , upper_lower='lower')\n",
    "df_time.loc[:,'polarity_upper'] = error95interval(df=df , grouped_by='date' , y='polarity' , upper_lower='upper')\n",
    "\n",
    "df_time.loc[:,'subjectivity_lower'] = error95interval(df=df , grouped_by='date' , y='subjectivity' , upper_lower='lower')\n",
    "df_time.loc[:,'subjectivity_upper'] = error95interval(df=df , grouped_by='date' , y='subjectivity' , upper_lower='upper')"
   ]
  },
  {
   "cell_type": "markdown",
   "metadata": {},
   "source": [
    "# **Quick Guide of Stock Market**\n",
    "\n",
    "* The S&P 500, Nasdaq, the Dow, and others are examples of market indexes. An index provides a summary of the market by tracking a sample of top stocks in that market.\n",
    "\n",
    "    * The Dow tracks the 30 largest U.S. companies.\n",
    "\n",
    "    * The Nasdaq market index, known as the Nasdaq composite, tracks the roughly 3,000 companies that are traded on the Nasdaq Exchange.\n",
    "\n",
    "    * Difference between the NASDAQ 100 Vs NASDAQ Composite INdex: *The Nasdaq Composite Index comprises of all Nasdaq domestic and international stocks listed on the Nasdaq Stock Market while the Nasdaq 100 index is a large-cap growth index and includes 100 of the top domestic and international non-financial companies based on market capitalization*\n",
    "\n",
    "    * The S&P 500 tracks 500 large U.S. companies across a span of industries and sectors.\n",
    "\n",
    "\n",
    "* The stock market is a “forward-looking mechanism” or “discounting mechanism.” That is, participants are always looking forward and prices are always adjusted according to the anticipation of future events.\n",
    "\n",
    "* Investors vs Traders: Investors like to buy and hold for many years whereas Traders like to buy and sell stocks more quickly, maybe holding them for only an hour, a day, a week, or a month.\n",
    "\n",
    "* Market cap — or market capitalization — refers to the total value of all a company’s shares of stock. It is calculated by multiplying the price of a stock by its total number of outstanding shares. For example, a company with 20 million shares selling at $50 a share would have a market cap of $1 billion.\n",
    "\n",
    "* Every stock has a bid price and an offer (or “ask”) price. The bid is the price at which someone is willing to buy the stock. The offer is the price at which someone is willing to sell the stock.\n",
    "\n",
    "* A liquid stock is defined as a stock where you can buy or sell a lot of shares without moving the stock too much. Liquid stocks in the U.S. usually have a bid-ask spread of just a penny or two. Eg: Microsoft."
   ]
  },
  {
   "cell_type": "code",
   "execution_count": 233,
   "metadata": {},
   "outputs": [],
   "source": [
    "key = open('alphavantage_api_key.txt').read()"
   ]
  },
  {
   "cell_type": "code",
   "execution_count": 234,
   "metadata": {},
   "outputs": [],
   "source": [
    "ts = TimeSeries(key , output_format='pandas')\n",
    "df_stock , meta = ts.get_daily(symbol='TSLA',outputsize='full')"
   ]
  },
  {
   "cell_type": "code",
   "execution_count": 235,
   "metadata": {},
   "outputs": [],
   "source": [
    "df_stock.reset_index(inplace=True)\n",
    "df_stock.rename(mapper={'date':'datetime'} , axis=1 , inplace=1)\n",
    "df_stock['date'] = df_stock['datetime'].dt.date"
   ]
  },
  {
   "cell_type": "code",
   "execution_count": 236,
   "metadata": {},
   "outputs": [],
   "source": [
    "\n",
    "#end_date = datetime.datetime.today().strftime(\"%Y/%m/%d\")\n",
    "tminus30 = datetime.datetime.today() - datetime.timedelta(days=30)\n",
    "tminus30 = tminus30.strftime(\"%Y-%m-%d\")\n",
    "\n",
    "\n",
    "last30 = df_stock.loc[df_stock.datetime>=tminus30,:]\n"
   ]
  },
  {
   "cell_type": "code",
   "execution_count": 237,
   "metadata": {},
   "outputs": [
    {
     "data": {
      "application/vnd.plotly.v1+json": {
       "config": {
        "plotlyServerURL": "https://plotly.com"
       },
       "data": [
        {
         "hovertemplate": "index=%{x}<br>4. close=%{y}<extra></extra>",
         "legendgroup": "",
         "line": {
          "color": "#636efa",
          "dash": "solid"
         },
         "marker": {
          "symbol": "circle"
         },
         "mode": "lines",
         "name": "",
         "orientation": "v",
         "showlegend": false,
         "type": "scatter",
         "x": [
          0,
          1,
          2,
          3,
          4,
          5,
          6,
          7,
          8,
          9,
          10,
          11,
          12,
          13,
          14,
          15,
          16,
          17,
          18,
          19,
          20,
          21,
          22
         ],
         "xaxis": "x",
         "y": [
          207.47,
          215.31,
          214.98,
          227.82,
          227.54,
          228.52,
          225.09,
          224.64,
          222.415,
          211.25,
          214.44,
          207.28,
          222.04,
          220.19,
          219.35,
          204.99,
          221.72,
          217.24,
          216.5,
          222.96,
          223.07,
          238.13,
          240.81
         ],
         "yaxis": "y"
        }
       ],
       "layout": {
        "legend": {
         "tracegroupgap": 0
        },
        "margin": {
         "t": 60
        },
        "template": {
         "data": {
          "bar": [
           {
            "error_x": {
             "color": "#2a3f5f"
            },
            "error_y": {
             "color": "#2a3f5f"
            },
            "marker": {
             "line": {
              "color": "#E5ECF6",
              "width": 0.5
             },
             "pattern": {
              "fillmode": "overlay",
              "size": 10,
              "solidity": 0.2
             }
            },
            "type": "bar"
           }
          ],
          "barpolar": [
           {
            "marker": {
             "line": {
              "color": "#E5ECF6",
              "width": 0.5
             },
             "pattern": {
              "fillmode": "overlay",
              "size": 10,
              "solidity": 0.2
             }
            },
            "type": "barpolar"
           }
          ],
          "carpet": [
           {
            "aaxis": {
             "endlinecolor": "#2a3f5f",
             "gridcolor": "white",
             "linecolor": "white",
             "minorgridcolor": "white",
             "startlinecolor": "#2a3f5f"
            },
            "baxis": {
             "endlinecolor": "#2a3f5f",
             "gridcolor": "white",
             "linecolor": "white",
             "minorgridcolor": "white",
             "startlinecolor": "#2a3f5f"
            },
            "type": "carpet"
           }
          ],
          "choropleth": [
           {
            "colorbar": {
             "outlinewidth": 0,
             "ticks": ""
            },
            "type": "choropleth"
           }
          ],
          "contour": [
           {
            "colorbar": {
             "outlinewidth": 0,
             "ticks": ""
            },
            "colorscale": [
             [
              0,
              "#0d0887"
             ],
             [
              0.1111111111111111,
              "#46039f"
             ],
             [
              0.2222222222222222,
              "#7201a8"
             ],
             [
              0.3333333333333333,
              "#9c179e"
             ],
             [
              0.4444444444444444,
              "#bd3786"
             ],
             [
              0.5555555555555556,
              "#d8576b"
             ],
             [
              0.6666666666666666,
              "#ed7953"
             ],
             [
              0.7777777777777778,
              "#fb9f3a"
             ],
             [
              0.8888888888888888,
              "#fdca26"
             ],
             [
              1,
              "#f0f921"
             ]
            ],
            "type": "contour"
           }
          ],
          "contourcarpet": [
           {
            "colorbar": {
             "outlinewidth": 0,
             "ticks": ""
            },
            "type": "contourcarpet"
           }
          ],
          "heatmap": [
           {
            "colorbar": {
             "outlinewidth": 0,
             "ticks": ""
            },
            "colorscale": [
             [
              0,
              "#0d0887"
             ],
             [
              0.1111111111111111,
              "#46039f"
             ],
             [
              0.2222222222222222,
              "#7201a8"
             ],
             [
              0.3333333333333333,
              "#9c179e"
             ],
             [
              0.4444444444444444,
              "#bd3786"
             ],
             [
              0.5555555555555556,
              "#d8576b"
             ],
             [
              0.6666666666666666,
              "#ed7953"
             ],
             [
              0.7777777777777778,
              "#fb9f3a"
             ],
             [
              0.8888888888888888,
              "#fdca26"
             ],
             [
              1,
              "#f0f921"
             ]
            ],
            "type": "heatmap"
           }
          ],
          "heatmapgl": [
           {
            "colorbar": {
             "outlinewidth": 0,
             "ticks": ""
            },
            "colorscale": [
             [
              0,
              "#0d0887"
             ],
             [
              0.1111111111111111,
              "#46039f"
             ],
             [
              0.2222222222222222,
              "#7201a8"
             ],
             [
              0.3333333333333333,
              "#9c179e"
             ],
             [
              0.4444444444444444,
              "#bd3786"
             ],
             [
              0.5555555555555556,
              "#d8576b"
             ],
             [
              0.6666666666666666,
              "#ed7953"
             ],
             [
              0.7777777777777778,
              "#fb9f3a"
             ],
             [
              0.8888888888888888,
              "#fdca26"
             ],
             [
              1,
              "#f0f921"
             ]
            ],
            "type": "heatmapgl"
           }
          ],
          "histogram": [
           {
            "marker": {
             "pattern": {
              "fillmode": "overlay",
              "size": 10,
              "solidity": 0.2
             }
            },
            "type": "histogram"
           }
          ],
          "histogram2d": [
           {
            "colorbar": {
             "outlinewidth": 0,
             "ticks": ""
            },
            "colorscale": [
             [
              0,
              "#0d0887"
             ],
             [
              0.1111111111111111,
              "#46039f"
             ],
             [
              0.2222222222222222,
              "#7201a8"
             ],
             [
              0.3333333333333333,
              "#9c179e"
             ],
             [
              0.4444444444444444,
              "#bd3786"
             ],
             [
              0.5555555555555556,
              "#d8576b"
             ],
             [
              0.6666666666666666,
              "#ed7953"
             ],
             [
              0.7777777777777778,
              "#fb9f3a"
             ],
             [
              0.8888888888888888,
              "#fdca26"
             ],
             [
              1,
              "#f0f921"
             ]
            ],
            "type": "histogram2d"
           }
          ],
          "histogram2dcontour": [
           {
            "colorbar": {
             "outlinewidth": 0,
             "ticks": ""
            },
            "colorscale": [
             [
              0,
              "#0d0887"
             ],
             [
              0.1111111111111111,
              "#46039f"
             ],
             [
              0.2222222222222222,
              "#7201a8"
             ],
             [
              0.3333333333333333,
              "#9c179e"
             ],
             [
              0.4444444444444444,
              "#bd3786"
             ],
             [
              0.5555555555555556,
              "#d8576b"
             ],
             [
              0.6666666666666666,
              "#ed7953"
             ],
             [
              0.7777777777777778,
              "#fb9f3a"
             ],
             [
              0.8888888888888888,
              "#fdca26"
             ],
             [
              1,
              "#f0f921"
             ]
            ],
            "type": "histogram2dcontour"
           }
          ],
          "mesh3d": [
           {
            "colorbar": {
             "outlinewidth": 0,
             "ticks": ""
            },
            "type": "mesh3d"
           }
          ],
          "parcoords": [
           {
            "line": {
             "colorbar": {
              "outlinewidth": 0,
              "ticks": ""
             }
            },
            "type": "parcoords"
           }
          ],
          "pie": [
           {
            "automargin": true,
            "type": "pie"
           }
          ],
          "scatter": [
           {
            "fillpattern": {
             "fillmode": "overlay",
             "size": 10,
             "solidity": 0.2
            },
            "type": "scatter"
           }
          ],
          "scatter3d": [
           {
            "line": {
             "colorbar": {
              "outlinewidth": 0,
              "ticks": ""
             }
            },
            "marker": {
             "colorbar": {
              "outlinewidth": 0,
              "ticks": ""
             }
            },
            "type": "scatter3d"
           }
          ],
          "scattercarpet": [
           {
            "marker": {
             "colorbar": {
              "outlinewidth": 0,
              "ticks": ""
             }
            },
            "type": "scattercarpet"
           }
          ],
          "scattergeo": [
           {
            "marker": {
             "colorbar": {
              "outlinewidth": 0,
              "ticks": ""
             }
            },
            "type": "scattergeo"
           }
          ],
          "scattergl": [
           {
            "marker": {
             "colorbar": {
              "outlinewidth": 0,
              "ticks": ""
             }
            },
            "type": "scattergl"
           }
          ],
          "scattermapbox": [
           {
            "marker": {
             "colorbar": {
              "outlinewidth": 0,
              "ticks": ""
             }
            },
            "type": "scattermapbox"
           }
          ],
          "scatterpolar": [
           {
            "marker": {
             "colorbar": {
              "outlinewidth": 0,
              "ticks": ""
             }
            },
            "type": "scatterpolar"
           }
          ],
          "scatterpolargl": [
           {
            "marker": {
             "colorbar": {
              "outlinewidth": 0,
              "ticks": ""
             }
            },
            "type": "scatterpolargl"
           }
          ],
          "scatterternary": [
           {
            "marker": {
             "colorbar": {
              "outlinewidth": 0,
              "ticks": ""
             }
            },
            "type": "scatterternary"
           }
          ],
          "surface": [
           {
            "colorbar": {
             "outlinewidth": 0,
             "ticks": ""
            },
            "colorscale": [
             [
              0,
              "#0d0887"
             ],
             [
              0.1111111111111111,
              "#46039f"
             ],
             [
              0.2222222222222222,
              "#7201a8"
             ],
             [
              0.3333333333333333,
              "#9c179e"
             ],
             [
              0.4444444444444444,
              "#bd3786"
             ],
             [
              0.5555555555555556,
              "#d8576b"
             ],
             [
              0.6666666666666666,
              "#ed7953"
             ],
             [
              0.7777777777777778,
              "#fb9f3a"
             ],
             [
              0.8888888888888888,
              "#fdca26"
             ],
             [
              1,
              "#f0f921"
             ]
            ],
            "type": "surface"
           }
          ],
          "table": [
           {
            "cells": {
             "fill": {
              "color": "#EBF0F8"
             },
             "line": {
              "color": "white"
             }
            },
            "header": {
             "fill": {
              "color": "#C8D4E3"
             },
             "line": {
              "color": "white"
             }
            },
            "type": "table"
           }
          ]
         },
         "layout": {
          "annotationdefaults": {
           "arrowcolor": "#2a3f5f",
           "arrowhead": 0,
           "arrowwidth": 1
          },
          "autotypenumbers": "strict",
          "coloraxis": {
           "colorbar": {
            "outlinewidth": 0,
            "ticks": ""
           }
          },
          "colorscale": {
           "diverging": [
            [
             0,
             "#8e0152"
            ],
            [
             0.1,
             "#c51b7d"
            ],
            [
             0.2,
             "#de77ae"
            ],
            [
             0.3,
             "#f1b6da"
            ],
            [
             0.4,
             "#fde0ef"
            ],
            [
             0.5,
             "#f7f7f7"
            ],
            [
             0.6,
             "#e6f5d0"
            ],
            [
             0.7,
             "#b8e186"
            ],
            [
             0.8,
             "#7fbc41"
            ],
            [
             0.9,
             "#4d9221"
            ],
            [
             1,
             "#276419"
            ]
           ],
           "sequential": [
            [
             0,
             "#0d0887"
            ],
            [
             0.1111111111111111,
             "#46039f"
            ],
            [
             0.2222222222222222,
             "#7201a8"
            ],
            [
             0.3333333333333333,
             "#9c179e"
            ],
            [
             0.4444444444444444,
             "#bd3786"
            ],
            [
             0.5555555555555556,
             "#d8576b"
            ],
            [
             0.6666666666666666,
             "#ed7953"
            ],
            [
             0.7777777777777778,
             "#fb9f3a"
            ],
            [
             0.8888888888888888,
             "#fdca26"
            ],
            [
             1,
             "#f0f921"
            ]
           ],
           "sequentialminus": [
            [
             0,
             "#0d0887"
            ],
            [
             0.1111111111111111,
             "#46039f"
            ],
            [
             0.2222222222222222,
             "#7201a8"
            ],
            [
             0.3333333333333333,
             "#9c179e"
            ],
            [
             0.4444444444444444,
             "#bd3786"
            ],
            [
             0.5555555555555556,
             "#d8576b"
            ],
            [
             0.6666666666666666,
             "#ed7953"
            ],
            [
             0.7777777777777778,
             "#fb9f3a"
            ],
            [
             0.8888888888888888,
             "#fdca26"
            ],
            [
             1,
             "#f0f921"
            ]
           ]
          },
          "colorway": [
           "#636efa",
           "#EF553B",
           "#00cc96",
           "#ab63fa",
           "#FFA15A",
           "#19d3f3",
           "#FF6692",
           "#B6E880",
           "#FF97FF",
           "#FECB52"
          ],
          "font": {
           "color": "#2a3f5f"
          },
          "geo": {
           "bgcolor": "white",
           "lakecolor": "white",
           "landcolor": "#E5ECF6",
           "showlakes": true,
           "showland": true,
           "subunitcolor": "white"
          },
          "hoverlabel": {
           "align": "left"
          },
          "hovermode": "closest",
          "mapbox": {
           "style": "light"
          },
          "paper_bgcolor": "white",
          "plot_bgcolor": "#E5ECF6",
          "polar": {
           "angularaxis": {
            "gridcolor": "white",
            "linecolor": "white",
            "ticks": ""
           },
           "bgcolor": "#E5ECF6",
           "radialaxis": {
            "gridcolor": "white",
            "linecolor": "white",
            "ticks": ""
           }
          },
          "scene": {
           "xaxis": {
            "backgroundcolor": "#E5ECF6",
            "gridcolor": "white",
            "gridwidth": 2,
            "linecolor": "white",
            "showbackground": true,
            "ticks": "",
            "zerolinecolor": "white"
           },
           "yaxis": {
            "backgroundcolor": "#E5ECF6",
            "gridcolor": "white",
            "gridwidth": 2,
            "linecolor": "white",
            "showbackground": true,
            "ticks": "",
            "zerolinecolor": "white"
           },
           "zaxis": {
            "backgroundcolor": "#E5ECF6",
            "gridcolor": "white",
            "gridwidth": 2,
            "linecolor": "white",
            "showbackground": true,
            "ticks": "",
            "zerolinecolor": "white"
           }
          },
          "shapedefaults": {
           "line": {
            "color": "#2a3f5f"
           }
          },
          "ternary": {
           "aaxis": {
            "gridcolor": "white",
            "linecolor": "white",
            "ticks": ""
           },
           "baxis": {
            "gridcolor": "white",
            "linecolor": "white",
            "ticks": ""
           },
           "bgcolor": "#E5ECF6",
           "caxis": {
            "gridcolor": "white",
            "linecolor": "white",
            "ticks": ""
           }
          },
          "title": {
           "x": 0.05
          },
          "xaxis": {
           "automargin": true,
           "gridcolor": "white",
           "linecolor": "white",
           "ticks": "",
           "title": {
            "standoff": 15
           },
           "zerolinecolor": "white",
           "zerolinewidth": 2
          },
          "yaxis": {
           "automargin": true,
           "gridcolor": "white",
           "linecolor": "white",
           "ticks": "",
           "title": {
            "standoff": 15
           },
           "zerolinecolor": "white",
           "zerolinewidth": 2
          }
         }
        },
        "xaxis": {
         "anchor": "y",
         "domain": [
          0,
          1
         ],
         "title": {
          "text": "index"
         }
        },
        "yaxis": {
         "anchor": "x",
         "domain": [
          0,
          1
         ],
         "title": {
          "text": "4. close"
         }
        }
       }
      }
     },
     "metadata": {},
     "output_type": "display_data"
    }
   ],
   "source": [
    "px.line(last30 , x=last30.index , y='4. close')"
   ]
  },
  {
   "cell_type": "markdown",
   "metadata": {},
   "source": [
    "Inner join data frames and plot on same axis"
   ]
  },
  {
   "cell_type": "code",
   "execution_count": 238,
   "metadata": {},
   "outputs": [],
   "source": [
    "df_all = pd.merge(\n",
    "    left=df_stock,\n",
    "    right=df_time,\n",
    "    how='inner',\n",
    "    on='date'\n",
    ")"
   ]
  },
  {
   "cell_type": "markdown",
   "metadata": {},
   "source": [
    "### **Plot both**"
   ]
  },
  {
   "cell_type": "code",
   "execution_count": 243,
   "metadata": {},
   "outputs": [],
   "source": [
    "import chart_studio\n",
    "import chart_studio.plotly as py\n",
    "import chart_studio.tools as tls\n",
    "\n",
    "api_key = open(\"plotly_chart_studio_api_key.txt\").read()\n",
    "\n",
    "username = \"mutombii\"\n",
    "api_key = api_key\n",
    "\n",
    "chart_studio.tools.set_credentials_file(username=username , api_key=api_key)"
   ]
  },
  {
   "cell_type": "code",
   "execution_count": 240,
   "metadata": {},
   "outputs": [
    {
     "data": {
      "application/vnd.plotly.v1+json": {
       "config": {
        "plotlyServerURL": "https://plotly.com"
       },
       "data": [
        {
         "line": {
          "color": "#636EFA"
         },
         "mode": "lines",
         "name": "Polarity",
         "type": "scatter",
         "x": [
          "2022-11-03",
          "2022-11-02",
          "2022-11-01",
          "2022-10-31",
          "2022-10-28",
          "2022-10-27",
          "2022-10-26",
          "2022-10-25",
          "2022-10-24",
          "2022-10-21",
          "2022-10-20",
          "2022-10-19",
          "2022-10-18",
          "2022-10-17",
          "2022-10-14",
          "2022-10-13",
          "2022-10-12",
          "2022-10-11",
          "2022-10-10",
          "2022-10-07",
          "2022-10-06",
          "2022-10-05"
         ],
         "xaxis": "x",
         "y": [
          0.09707135640165063,
          0.09727550204911652,
          0.08493288346378514,
          0.07839376488262222,
          0.12230106316006153,
          0.10007139345085432,
          0.097520552963636,
          0.07212402785124525,
          0.10006504914150002,
          0.05703420131292915,
          0.08786496806335163,
          0.07960414216325545,
          0.09280172435093265,
          0.08748287955946997,
          0.061343617776352465,
          0.08337999830987838,
          0.07387355309713123,
          0.051830533038208566,
          0.08563398628021868,
          0.07704977242032107,
          0.06718023244773827,
          0.11626032628931571
         ],
         "yaxis": "y"
        },
        {
         "line": {
          "width": 0
         },
         "marker": {
          "color": "#444"
         },
         "mode": "lines",
         "name": "Upper Bound",
         "showlegend": false,
         "type": "scatter",
         "x": [
          "2022-11-03",
          "2022-11-02",
          "2022-11-01",
          "2022-10-31",
          "2022-10-28",
          "2022-10-27",
          "2022-10-26",
          "2022-10-25",
          "2022-10-24",
          "2022-10-21",
          "2022-10-20",
          "2022-10-19",
          "2022-10-18",
          "2022-10-17",
          "2022-10-14",
          "2022-10-13",
          "2022-10-12",
          "2022-10-11",
          "2022-10-10",
          "2022-10-07",
          "2022-10-06",
          "2022-10-05"
         ],
         "xaxis": "x",
         "y": [
          0.75,
          0.7202761268615641,
          0.7,
          0.78125,
          0.8,
          0.7981250000000017,
          0.8,
          0.7,
          0.8,
          0.7,
          0.7,
          0.8,
          0.7,
          0.7357954545454545,
          0.75,
          0.6828125,
          0.7,
          0.7,
          0.78125,
          0.7,
          0.6875,
          0.8
         ],
         "yaxis": "y"
        },
        {
         "fill": "tonexty",
         "fillcolor": "rgba(68, 68, 68, 0.3)",
         "line": {
          "width": 0
         },
         "marker": {
          "color": "#444"
         },
         "mode": "lines",
         "name": "Lower Bound",
         "showlegend": false,
         "type": "scatter",
         "x": [
          "2022-11-03",
          "2022-11-02",
          "2022-11-01",
          "2022-10-31",
          "2022-10-28",
          "2022-10-27",
          "2022-10-26",
          "2022-10-25",
          "2022-10-24",
          "2022-10-21",
          "2022-10-20",
          "2022-10-19",
          "2022-10-18",
          "2022-10-17",
          "2022-10-14",
          "2022-10-13",
          "2022-10-12",
          "2022-10-11",
          "2022-10-10",
          "2022-10-07",
          "2022-10-06",
          "2022-10-05"
         ],
         "xaxis": "x",
         "y": [
          -0.48125,
          -0.5,
          -0.5,
          -0.5,
          -0.4,
          -0.4,
          -0.4,
          -0.5,
          -0.4967708333333333,
          -0.44307291666666665,
          -0.4000000000000001,
          -0.518125,
          -0.4,
          -0.5,
          -0.5804687499999999,
          -0.5,
          -0.5,
          -0.5,
          -0.5,
          -0.5,
          -0.5,
          -0.4014999999999998
         ],
         "yaxis": "y"
        },
        {
         "line": {
          "color": "#EF553B"
         },
         "mode": "lines",
         "name": "TSLA",
         "type": "scatter",
         "x": [
          "2022-11-03",
          "2022-11-02",
          "2022-11-01",
          "2022-10-31",
          "2022-10-28",
          "2022-10-27",
          "2022-10-26",
          "2022-10-25",
          "2022-10-24",
          "2022-10-21",
          "2022-10-20",
          "2022-10-19",
          "2022-10-18",
          "2022-10-17",
          "2022-10-14",
          "2022-10-13",
          "2022-10-12",
          "2022-10-11",
          "2022-10-10",
          "2022-10-07",
          "2022-10-06",
          "2022-10-05"
         ],
         "xaxis": "x",
         "y": [
          215.31,
          214.98,
          227.82,
          227.54,
          228.52,
          225.09,
          224.64,
          222.415,
          211.25,
          214.44,
          207.28,
          222.04,
          220.19,
          219.35,
          204.99,
          221.72,
          217.24,
          216.5,
          222.96,
          223.07,
          238.13,
          240.81
         ],
         "yaxis": "y2"
        },
        {
         "line": {
          "color": "#00CC96"
         },
         "mode": "lines",
         "name": "subjectivity",
         "type": "scatter",
         "x": [
          "2022-11-03",
          "2022-11-02",
          "2022-11-01",
          "2022-10-31",
          "2022-10-28",
          "2022-10-27",
          "2022-10-26",
          "2022-10-25",
          "2022-10-24",
          "2022-10-21",
          "2022-10-20",
          "2022-10-19",
          "2022-10-18",
          "2022-10-17",
          "2022-10-14",
          "2022-10-13",
          "2022-10-12",
          "2022-10-11",
          "2022-10-10",
          "2022-10-07",
          "2022-10-06",
          "2022-10-05"
         ],
         "xaxis": "x2",
         "y": [
          0.33908571762307865,
          0.3479901501640646,
          0.3348026544345894,
          0.3245833669128975,
          0.34302929730659004,
          0.3181698067142046,
          0.30259326056418184,
          0.28792147360620735,
          0.3294120551998156,
          0.28679323676629315,
          0.3030652390997603,
          0.34040297894839155,
          0.31402293012025373,
          0.32865413722975106,
          0.33488543466396725,
          0.3126030774210792,
          0.31649393457357666,
          0.2865870497066634,
          0.31040645819719265,
          0.30958326414673576,
          0.3227441320838512,
          0.34797647623425443
         ],
         "yaxis": "y3"
        },
        {
         "line": {
          "width": 0
         },
         "marker": {
          "color": "#444"
         },
         "mode": "lines",
         "name": "Upper Bound",
         "showlegend": false,
         "type": "scatter",
         "x": [
          "2022-11-03",
          "2022-11-02",
          "2022-11-01",
          "2022-10-31",
          "2022-10-28",
          "2022-10-27",
          "2022-10-26",
          "2022-10-25",
          "2022-10-24",
          "2022-10-21",
          "2022-10-20",
          "2022-10-19",
          "2022-10-18",
          "2022-10-17",
          "2022-10-14",
          "2022-10-13",
          "2022-10-12",
          "2022-10-11",
          "2022-10-10",
          "2022-10-07",
          "2022-10-06",
          "2022-10-05"
         ],
         "xaxis": "x2",
         "y": [
          1,
          1,
          1,
          1,
          1,
          1,
          1,
          1,
          1,
          1,
          1,
          1,
          1,
          1,
          1,
          1,
          1,
          1,
          1,
          1,
          1,
          1
         ],
         "yaxis": "y3"
        },
        {
         "fill": "tonexty",
         "fillcolor": "rgba(68, 68, 68, 0.3)",
         "line": {
          "width": 0
         },
         "marker": {
          "color": "#444"
         },
         "mode": "lines",
         "name": "Lower Bound",
         "showlegend": false,
         "type": "scatter",
         "x": [
          "2022-11-03",
          "2022-11-02",
          "2022-11-01",
          "2022-10-31",
          "2022-10-28",
          "2022-10-27",
          "2022-10-26",
          "2022-10-25",
          "2022-10-24",
          "2022-10-21",
          "2022-10-20",
          "2022-10-19",
          "2022-10-18",
          "2022-10-17",
          "2022-10-14",
          "2022-10-13",
          "2022-10-12",
          "2022-10-11",
          "2022-10-10",
          "2022-10-07",
          "2022-10-06",
          "2022-10-05"
         ],
         "xaxis": "x2",
         "y": [
          0,
          0,
          0,
          0,
          0,
          0,
          0,
          0,
          0,
          0,
          0,
          0,
          0,
          0,
          0,
          0,
          0,
          0,
          0,
          0,
          0,
          0
         ],
         "yaxis": "y3"
        },
        {
         "line": {
          "color": "#EF553B"
         },
         "mode": "lines",
         "name": "TSLA",
         "showlegend": false,
         "type": "scatter",
         "x": [
          "2022-11-03",
          "2022-11-02",
          "2022-11-01",
          "2022-10-31",
          "2022-10-28",
          "2022-10-27",
          "2022-10-26",
          "2022-10-25",
          "2022-10-24",
          "2022-10-21",
          "2022-10-20",
          "2022-10-19",
          "2022-10-18",
          "2022-10-17",
          "2022-10-14",
          "2022-10-13",
          "2022-10-12",
          "2022-10-11",
          "2022-10-10",
          "2022-10-07",
          "2022-10-06",
          "2022-10-05"
         ],
         "xaxis": "x2",
         "y": [
          215.31,
          214.98,
          227.82,
          227.54,
          228.52,
          225.09,
          224.64,
          222.415,
          211.25,
          214.44,
          207.28,
          222.04,
          220.19,
          219.35,
          204.99,
          221.72,
          217.24,
          216.5,
          222.96,
          223.07,
          238.13,
          240.81
         ],
         "yaxis": "y4"
        }
       ],
       "layout": {
        "font": {
         "color": "rgba(255,255,255,1)"
        },
        "height": 900,
        "hovermode": "x",
        "paper_bgcolor": "rgba(0,0,0,0)",
        "plot_bgcolor": "rgba(0,0,0,0)",
        "template": {
         "data": {
          "bar": [
           {
            "error_x": {
             "color": "#2a3f5f"
            },
            "error_y": {
             "color": "#2a3f5f"
            },
            "marker": {
             "line": {
              "color": "#E5ECF6",
              "width": 0.5
             },
             "pattern": {
              "fillmode": "overlay",
              "size": 10,
              "solidity": 0.2
             }
            },
            "type": "bar"
           }
          ],
          "barpolar": [
           {
            "marker": {
             "line": {
              "color": "#E5ECF6",
              "width": 0.5
             },
             "pattern": {
              "fillmode": "overlay",
              "size": 10,
              "solidity": 0.2
             }
            },
            "type": "barpolar"
           }
          ],
          "carpet": [
           {
            "aaxis": {
             "endlinecolor": "#2a3f5f",
             "gridcolor": "white",
             "linecolor": "white",
             "minorgridcolor": "white",
             "startlinecolor": "#2a3f5f"
            },
            "baxis": {
             "endlinecolor": "#2a3f5f",
             "gridcolor": "white",
             "linecolor": "white",
             "minorgridcolor": "white",
             "startlinecolor": "#2a3f5f"
            },
            "type": "carpet"
           }
          ],
          "choropleth": [
           {
            "colorbar": {
             "outlinewidth": 0,
             "ticks": ""
            },
            "type": "choropleth"
           }
          ],
          "contour": [
           {
            "colorbar": {
             "outlinewidth": 0,
             "ticks": ""
            },
            "colorscale": [
             [
              0,
              "#0d0887"
             ],
             [
              0.1111111111111111,
              "#46039f"
             ],
             [
              0.2222222222222222,
              "#7201a8"
             ],
             [
              0.3333333333333333,
              "#9c179e"
             ],
             [
              0.4444444444444444,
              "#bd3786"
             ],
             [
              0.5555555555555556,
              "#d8576b"
             ],
             [
              0.6666666666666666,
              "#ed7953"
             ],
             [
              0.7777777777777778,
              "#fb9f3a"
             ],
             [
              0.8888888888888888,
              "#fdca26"
             ],
             [
              1,
              "#f0f921"
             ]
            ],
            "type": "contour"
           }
          ],
          "contourcarpet": [
           {
            "colorbar": {
             "outlinewidth": 0,
             "ticks": ""
            },
            "type": "contourcarpet"
           }
          ],
          "heatmap": [
           {
            "colorbar": {
             "outlinewidth": 0,
             "ticks": ""
            },
            "colorscale": [
             [
              0,
              "#0d0887"
             ],
             [
              0.1111111111111111,
              "#46039f"
             ],
             [
              0.2222222222222222,
              "#7201a8"
             ],
             [
              0.3333333333333333,
              "#9c179e"
             ],
             [
              0.4444444444444444,
              "#bd3786"
             ],
             [
              0.5555555555555556,
              "#d8576b"
             ],
             [
              0.6666666666666666,
              "#ed7953"
             ],
             [
              0.7777777777777778,
              "#fb9f3a"
             ],
             [
              0.8888888888888888,
              "#fdca26"
             ],
             [
              1,
              "#f0f921"
             ]
            ],
            "type": "heatmap"
           }
          ],
          "heatmapgl": [
           {
            "colorbar": {
             "outlinewidth": 0,
             "ticks": ""
            },
            "colorscale": [
             [
              0,
              "#0d0887"
             ],
             [
              0.1111111111111111,
              "#46039f"
             ],
             [
              0.2222222222222222,
              "#7201a8"
             ],
             [
              0.3333333333333333,
              "#9c179e"
             ],
             [
              0.4444444444444444,
              "#bd3786"
             ],
             [
              0.5555555555555556,
              "#d8576b"
             ],
             [
              0.6666666666666666,
              "#ed7953"
             ],
             [
              0.7777777777777778,
              "#fb9f3a"
             ],
             [
              0.8888888888888888,
              "#fdca26"
             ],
             [
              1,
              "#f0f921"
             ]
            ],
            "type": "heatmapgl"
           }
          ],
          "histogram": [
           {
            "marker": {
             "pattern": {
              "fillmode": "overlay",
              "size": 10,
              "solidity": 0.2
             }
            },
            "type": "histogram"
           }
          ],
          "histogram2d": [
           {
            "colorbar": {
             "outlinewidth": 0,
             "ticks": ""
            },
            "colorscale": [
             [
              0,
              "#0d0887"
             ],
             [
              0.1111111111111111,
              "#46039f"
             ],
             [
              0.2222222222222222,
              "#7201a8"
             ],
             [
              0.3333333333333333,
              "#9c179e"
             ],
             [
              0.4444444444444444,
              "#bd3786"
             ],
             [
              0.5555555555555556,
              "#d8576b"
             ],
             [
              0.6666666666666666,
              "#ed7953"
             ],
             [
              0.7777777777777778,
              "#fb9f3a"
             ],
             [
              0.8888888888888888,
              "#fdca26"
             ],
             [
              1,
              "#f0f921"
             ]
            ],
            "type": "histogram2d"
           }
          ],
          "histogram2dcontour": [
           {
            "colorbar": {
             "outlinewidth": 0,
             "ticks": ""
            },
            "colorscale": [
             [
              0,
              "#0d0887"
             ],
             [
              0.1111111111111111,
              "#46039f"
             ],
             [
              0.2222222222222222,
              "#7201a8"
             ],
             [
              0.3333333333333333,
              "#9c179e"
             ],
             [
              0.4444444444444444,
              "#bd3786"
             ],
             [
              0.5555555555555556,
              "#d8576b"
             ],
             [
              0.6666666666666666,
              "#ed7953"
             ],
             [
              0.7777777777777778,
              "#fb9f3a"
             ],
             [
              0.8888888888888888,
              "#fdca26"
             ],
             [
              1,
              "#f0f921"
             ]
            ],
            "type": "histogram2dcontour"
           }
          ],
          "mesh3d": [
           {
            "colorbar": {
             "outlinewidth": 0,
             "ticks": ""
            },
            "type": "mesh3d"
           }
          ],
          "parcoords": [
           {
            "line": {
             "colorbar": {
              "outlinewidth": 0,
              "ticks": ""
             }
            },
            "type": "parcoords"
           }
          ],
          "pie": [
           {
            "automargin": true,
            "type": "pie"
           }
          ],
          "scatter": [
           {
            "fillpattern": {
             "fillmode": "overlay",
             "size": 10,
             "solidity": 0.2
            },
            "type": "scatter"
           }
          ],
          "scatter3d": [
           {
            "line": {
             "colorbar": {
              "outlinewidth": 0,
              "ticks": ""
             }
            },
            "marker": {
             "colorbar": {
              "outlinewidth": 0,
              "ticks": ""
             }
            },
            "type": "scatter3d"
           }
          ],
          "scattercarpet": [
           {
            "marker": {
             "colorbar": {
              "outlinewidth": 0,
              "ticks": ""
             }
            },
            "type": "scattercarpet"
           }
          ],
          "scattergeo": [
           {
            "marker": {
             "colorbar": {
              "outlinewidth": 0,
              "ticks": ""
             }
            },
            "type": "scattergeo"
           }
          ],
          "scattergl": [
           {
            "marker": {
             "colorbar": {
              "outlinewidth": 0,
              "ticks": ""
             }
            },
            "type": "scattergl"
           }
          ],
          "scattermapbox": [
           {
            "marker": {
             "colorbar": {
              "outlinewidth": 0,
              "ticks": ""
             }
            },
            "type": "scattermapbox"
           }
          ],
          "scatterpolar": [
           {
            "marker": {
             "colorbar": {
              "outlinewidth": 0,
              "ticks": ""
             }
            },
            "type": "scatterpolar"
           }
          ],
          "scatterpolargl": [
           {
            "marker": {
             "colorbar": {
              "outlinewidth": 0,
              "ticks": ""
             }
            },
            "type": "scatterpolargl"
           }
          ],
          "scatterternary": [
           {
            "marker": {
             "colorbar": {
              "outlinewidth": 0,
              "ticks": ""
             }
            },
            "type": "scatterternary"
           }
          ],
          "surface": [
           {
            "colorbar": {
             "outlinewidth": 0,
             "ticks": ""
            },
            "colorscale": [
             [
              0,
              "#0d0887"
             ],
             [
              0.1111111111111111,
              "#46039f"
             ],
             [
              0.2222222222222222,
              "#7201a8"
             ],
             [
              0.3333333333333333,
              "#9c179e"
             ],
             [
              0.4444444444444444,
              "#bd3786"
             ],
             [
              0.5555555555555556,
              "#d8576b"
             ],
             [
              0.6666666666666666,
              "#ed7953"
             ],
             [
              0.7777777777777778,
              "#fb9f3a"
             ],
             [
              0.8888888888888888,
              "#fdca26"
             ],
             [
              1,
              "#f0f921"
             ]
            ],
            "type": "surface"
           }
          ],
          "table": [
           {
            "cells": {
             "fill": {
              "color": "#EBF0F8"
             },
             "line": {
              "color": "white"
             }
            },
            "header": {
             "fill": {
              "color": "#C8D4E3"
             },
             "line": {
              "color": "white"
             }
            },
            "type": "table"
           }
          ]
         },
         "layout": {
          "annotationdefaults": {
           "arrowcolor": "#2a3f5f",
           "arrowhead": 0,
           "arrowwidth": 1
          },
          "autotypenumbers": "strict",
          "coloraxis": {
           "colorbar": {
            "outlinewidth": 0,
            "ticks": ""
           }
          },
          "colorscale": {
           "diverging": [
            [
             0,
             "#8e0152"
            ],
            [
             0.1,
             "#c51b7d"
            ],
            [
             0.2,
             "#de77ae"
            ],
            [
             0.3,
             "#f1b6da"
            ],
            [
             0.4,
             "#fde0ef"
            ],
            [
             0.5,
             "#f7f7f7"
            ],
            [
             0.6,
             "#e6f5d0"
            ],
            [
             0.7,
             "#b8e186"
            ],
            [
             0.8,
             "#7fbc41"
            ],
            [
             0.9,
             "#4d9221"
            ],
            [
             1,
             "#276419"
            ]
           ],
           "sequential": [
            [
             0,
             "#0d0887"
            ],
            [
             0.1111111111111111,
             "#46039f"
            ],
            [
             0.2222222222222222,
             "#7201a8"
            ],
            [
             0.3333333333333333,
             "#9c179e"
            ],
            [
             0.4444444444444444,
             "#bd3786"
            ],
            [
             0.5555555555555556,
             "#d8576b"
            ],
            [
             0.6666666666666666,
             "#ed7953"
            ],
            [
             0.7777777777777778,
             "#fb9f3a"
            ],
            [
             0.8888888888888888,
             "#fdca26"
            ],
            [
             1,
             "#f0f921"
            ]
           ],
           "sequentialminus": [
            [
             0,
             "#0d0887"
            ],
            [
             0.1111111111111111,
             "#46039f"
            ],
            [
             0.2222222222222222,
             "#7201a8"
            ],
            [
             0.3333333333333333,
             "#9c179e"
            ],
            [
             0.4444444444444444,
             "#bd3786"
            ],
            [
             0.5555555555555556,
             "#d8576b"
            ],
            [
             0.6666666666666666,
             "#ed7953"
            ],
            [
             0.7777777777777778,
             "#fb9f3a"
            ],
            [
             0.8888888888888888,
             "#fdca26"
            ],
            [
             1,
             "#f0f921"
            ]
           ]
          },
          "colorway": [
           "#636efa",
           "#EF553B",
           "#00cc96",
           "#ab63fa",
           "#FFA15A",
           "#19d3f3",
           "#FF6692",
           "#B6E880",
           "#FF97FF",
           "#FECB52"
          ],
          "font": {
           "color": "#2a3f5f"
          },
          "geo": {
           "bgcolor": "white",
           "lakecolor": "white",
           "landcolor": "#E5ECF6",
           "showlakes": true,
           "showland": true,
           "subunitcolor": "white"
          },
          "hoverlabel": {
           "align": "left"
          },
          "hovermode": "closest",
          "mapbox": {
           "style": "light"
          },
          "paper_bgcolor": "white",
          "plot_bgcolor": "#E5ECF6",
          "polar": {
           "angularaxis": {
            "gridcolor": "white",
            "linecolor": "white",
            "ticks": ""
           },
           "bgcolor": "#E5ECF6",
           "radialaxis": {
            "gridcolor": "white",
            "linecolor": "white",
            "ticks": ""
           }
          },
          "scene": {
           "xaxis": {
            "backgroundcolor": "#E5ECF6",
            "gridcolor": "white",
            "gridwidth": 2,
            "linecolor": "white",
            "showbackground": true,
            "ticks": "",
            "zerolinecolor": "white"
           },
           "yaxis": {
            "backgroundcolor": "#E5ECF6",
            "gridcolor": "white",
            "gridwidth": 2,
            "linecolor": "white",
            "showbackground": true,
            "ticks": "",
            "zerolinecolor": "white"
           },
           "zaxis": {
            "backgroundcolor": "#E5ECF6",
            "gridcolor": "white",
            "gridwidth": 2,
            "linecolor": "white",
            "showbackground": true,
            "ticks": "",
            "zerolinecolor": "white"
           }
          },
          "shapedefaults": {
           "line": {
            "color": "#2a3f5f"
           }
          },
          "ternary": {
           "aaxis": {
            "gridcolor": "white",
            "linecolor": "white",
            "ticks": ""
           },
           "baxis": {
            "gridcolor": "white",
            "linecolor": "white",
            "ticks": ""
           },
           "bgcolor": "#E5ECF6",
           "caxis": {
            "gridcolor": "white",
            "linecolor": "white",
            "ticks": ""
           }
          },
          "title": {
           "x": 0.05
          },
          "xaxis": {
           "automargin": true,
           "gridcolor": "white",
           "linecolor": "white",
           "ticks": "",
           "title": {
            "standoff": 15
           },
           "zerolinecolor": "white",
           "zerolinewidth": 2
          },
          "yaxis": {
           "automargin": true,
           "gridcolor": "white",
           "linecolor": "white",
           "ticks": "",
           "title": {
            "standoff": 15
           },
           "zerolinecolor": "white",
           "zerolinewidth": 2
          }
         }
        },
        "xaxis": {
         "anchor": "y",
         "domain": [
          0,
          0.94
         ],
         "gridcolor": "Grey",
         "gridwidth": 0.1,
         "showgrid": true
        },
        "xaxis2": {
         "anchor": "y3",
         "domain": [
          0,
          0.94
         ],
         "gridcolor": "Grey",
         "gridwidth": 0.1,
         "showgrid": true
        },
        "yaxis": {
         "anchor": "x",
         "domain": [
          0.575,
          1
         ],
         "gridcolor": "Grey",
         "gridwidth": 0.1,
         "showgrid": false,
         "title": {
          "text": "Polarity"
         }
        },
        "yaxis2": {
         "anchor": "x",
         "gridcolor": "Grey",
         "gridwidth": 0.1,
         "overlaying": "y",
         "showgrid": false,
         "side": "right",
         "title": {
          "text": "Share Price (USD)"
         }
        },
        "yaxis3": {
         "anchor": "x2",
         "domain": [
          0,
          0.425
         ],
         "gridcolor": "Grey",
         "gridwidth": 0.1,
         "showgrid": false,
         "title": {
          "text": "subjectivity"
         }
        },
        "yaxis4": {
         "anchor": "x2",
         "gridcolor": "Grey",
         "gridwidth": 0.1,
         "overlaying": "y3",
         "showgrid": false,
         "side": "right",
         "title": {
          "text": "Share Price (USD)"
         }
        }
       }
      }
     },
     "metadata": {},
     "output_type": "display_data"
    }
   ],
   "source": [
    "fig = make_subplots(rows=2, cols=1,\n",
    "                    specs=[\n",
    "                        [{\"secondary_y\": True}], \n",
    "                        [{\"secondary_y\": True}]\n",
    "                        ])\n",
    "\n",
    "# polarity\n",
    "fig.add_trace(\n",
    "    go.Scatter(\n",
    "        x = df_all.date,\n",
    "        y = df_all.polarity,\n",
    "        name='Polarity',\n",
    "        mode='lines',\n",
    "        line=dict(color='#636EFA')\n",
    "    ),\n",
    "    row=1,col=1\n",
    ")\n",
    "# bounds\n",
    "fig.add_trace(\n",
    "    go.Scatter(\n",
    "        name='Upper Bound',\n",
    "        x=df_all.date,\n",
    "        y=df_all.polarity_upper,\n",
    "        mode='lines',\n",
    "        marker=dict(color=\"#444\"),\n",
    "        line=dict(width=0),\n",
    "        showlegend=False\n",
    "    ),\n",
    "    row=1,col=1\n",
    ")\n",
    "fig.add_trace(\n",
    "    go.Scatter(\n",
    "        name='Lower Bound',\n",
    "        x=df_all.date,\n",
    "        y=df_all.polarity_lower,\n",
    "        mode='lines',\n",
    "        marker=dict(color=\"#444\"),\n",
    "        line=dict(width=0),\n",
    "        fillcolor='rgba(68, 68, 68, 0.3)',\n",
    "        fill='tonexty',\n",
    "        showlegend=False\n",
    "    ),\n",
    "    row=1,col=1\n",
    ")\n",
    "fig.add_trace(\n",
    "    go.Scatter(\n",
    "        x = df_all.date,\n",
    "        y = df_all['4. close'],\n",
    "        name='TSLA',\n",
    "        mode='lines',\n",
    "        line=dict(color='#EF553B')\n",
    "    ),\n",
    "    row=1,col=1,\n",
    "    secondary_y=True\n",
    ")\n",
    "\n",
    "\n",
    "############### subjectivity ###############\n",
    "fig.add_trace(\n",
    "    go.Scatter(\n",
    "        x = df_all.date,\n",
    "        y = df_all.subjectivity,\n",
    "        name='subjectivity',\n",
    "        mode='lines',\n",
    "        line=dict(color='#00CC96')\n",
    "    ),\n",
    "    row=2,col=1\n",
    ")\n",
    "# bounds\n",
    "fig.add_trace(\n",
    "    go.Scatter(\n",
    "        name='Upper Bound',\n",
    "        x=df_all.date,\n",
    "        y=df_all.subjectivity_upper,\n",
    "        mode='lines',\n",
    "        marker=dict(color=\"#444\"),\n",
    "        line=dict(width=0),\n",
    "        showlegend=False\n",
    "    ),\n",
    "    row=2,col=1\n",
    ")\n",
    "fig.add_trace(\n",
    "    go.Scatter(\n",
    "        name='Lower Bound',\n",
    "        x=df_all.date,\n",
    "        y=df_all.subjectivity_lower,\n",
    "        mode='lines',\n",
    "        marker=dict(color=\"#444\"),\n",
    "        line=dict(width=0),\n",
    "        fillcolor='rgba(68, 68, 68, 0.3)',\n",
    "        fill='tonexty',\n",
    "        showlegend=False\n",
    "    ),\n",
    "    row=2,col=1\n",
    ")\n",
    "fig.add_trace(\n",
    "    go.Scatter(\n",
    "        x = df_all.date,\n",
    "        y = df_all['4. close'],\n",
    "        name='TSLA',\n",
    "        mode='lines',\n",
    "        line=dict(color='#EF553B'),\n",
    "        showlegend=False\n",
    "    ),\n",
    "    row=2,col=1,\n",
    "    secondary_y=True\n",
    ")\n",
    "\n",
    "fig.update_yaxes(title='Share Price (USD)',row=1,col=1 , secondary_y=True , gridwidth=0.1, gridcolor='Grey' , showgrid=False)\n",
    "fig.update_yaxes(title='Share Price (USD)',row=2,col=1 , secondary_y=True , gridwidth=0.1, gridcolor='Grey' , showgrid=False)\n",
    "\n",
    "fig.update_yaxes(title='Polarity',row=1,col=1 , secondary_y=False , gridwidth=0.1, gridcolor='Grey' , showgrid=False)\n",
    "fig.update_yaxes(title='subjectivity',row=2,col=1 , secondary_y=False , gridwidth=0.1, gridcolor='Grey' , showgrid=False)\n",
    "\n",
    "fig.update_xaxes(showgrid=True, gridwidth=0.1, gridcolor='Grey' , row=1 , col=1)\n",
    "fig.update_xaxes(showgrid=True, gridwidth=0.1, gridcolor='Grey' , row=2 , col=1)\n",
    "\n",
    "fig.update_layout(\n",
    "    hovermode=\"x\",\n",
    "    paper_bgcolor = \"rgba(0,0,0,0)\",\n",
    "    plot_bgcolor = \"rgba(0,0,0,0)\",\n",
    "    font_color = 'rgba(255,255,255,1)',\n",
    "    height=900\n",
    ")"
   ]
  },
  {
   "cell_type": "code",
   "execution_count": 242,
   "metadata": {},
   "outputs": [
    {
     "data": {
      "text/plain": [
       "'https://plotly.com/~mutombii/28/'"
      ]
     },
     "execution_count": 242,
     "metadata": {},
     "output_type": "execute_result"
    }
   ],
   "source": [
    "#py.plot(fig , filename='elons_tweet_sentiment' , auto_open=False)\n",
    "#py.plot(fig , filename='elons_tweet_publicsentiment' , auto_open=False)"
   ]
  }
 ],
 "metadata": {
  "kernelspec": {
   "display_name": "Python 3.9.2 ('twitter_sentiment': venv)",
   "language": "python",
   "name": "python3"
  },
  "language_info": {
   "codemirror_mode": {
    "name": "ipython",
    "version": 3
   },
   "file_extension": ".py",
   "mimetype": "text/x-python",
   "name": "python",
   "nbconvert_exporter": "python",
   "pygments_lexer": "ipython3",
   "version": "3.9.2"
  },
  "orig_nbformat": 4,
  "vscode": {
   "interpreter": {
    "hash": "35746d8261eb5e9302a50f026caa2489e529dce9e095aac79f91bd14f60c28da"
   }
  }
 },
 "nbformat": 4,
 "nbformat_minor": 2
}
